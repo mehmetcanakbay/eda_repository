{
 "cells": [
  {
   "cell_type": "code",
   "execution_count": 1,
   "id": "28f6c942",
   "metadata": {},
   "outputs": [],
   "source": [
    "import seaborn as sns\n",
    "import matplotlib.pyplot as plt\n",
    "import numpy as np\n",
    "import pandas as pd\n",
    "import datetime"
   ]
  },
  {
   "cell_type": "code",
   "execution_count": 2,
   "id": "3706cb01",
   "metadata": {},
   "outputs": [],
   "source": [
    "plt.style.use('seaborn')"
   ]
  },
  {
   "cell_type": "code",
   "execution_count": 3,
   "id": "bbaa954d",
   "metadata": {},
   "outputs": [],
   "source": [
    "df = pd.read_csv('datasets/Fraud_Data.csv')"
   ]
  },
  {
   "cell_type": "code",
   "execution_count": 4,
   "id": "f6256dcb",
   "metadata": {},
   "outputs": [],
   "source": [
    "#We dont need user_id and device_id. These have no relation to whatever its fraud or not. We'll look at other data later.\n",
    "df = df.drop(['user_id', 'device_id'], axis=1)"
   ]
  },
  {
   "cell_type": "code",
   "execution_count": 5,
   "id": "d310a20b",
   "metadata": {},
   "outputs": [
    {
     "data": {
      "text/html": [
       "<div>\n",
       "<style scoped>\n",
       "    .dataframe tbody tr th:only-of-type {\n",
       "        vertical-align: middle;\n",
       "    }\n",
       "\n",
       "    .dataframe tbody tr th {\n",
       "        vertical-align: top;\n",
       "    }\n",
       "\n",
       "    .dataframe thead th {\n",
       "        text-align: right;\n",
       "    }\n",
       "</style>\n",
       "<table border=\"1\" class=\"dataframe\">\n",
       "  <thead>\n",
       "    <tr style=\"text-align: right;\">\n",
       "      <th></th>\n",
       "      <th>signup_time</th>\n",
       "      <th>purchase_time</th>\n",
       "      <th>purchase_value</th>\n",
       "      <th>source</th>\n",
       "      <th>browser</th>\n",
       "      <th>sex</th>\n",
       "      <th>age</th>\n",
       "      <th>ip_address</th>\n",
       "      <th>is_fraud</th>\n",
       "    </tr>\n",
       "  </thead>\n",
       "  <tbody>\n",
       "    <tr>\n",
       "      <th>0</th>\n",
       "      <td>2015-02-24 22:55:49</td>\n",
       "      <td>2015-04-18 2:47:11</td>\n",
       "      <td>34</td>\n",
       "      <td>SEO</td>\n",
       "      <td>Chrome</td>\n",
       "      <td>M</td>\n",
       "      <td>39</td>\n",
       "      <td>7.327584e+08</td>\n",
       "      <td>0</td>\n",
       "    </tr>\n",
       "    <tr>\n",
       "      <th>1</th>\n",
       "      <td>2015-06-07 20:39:50</td>\n",
       "      <td>2015-06-08 1:38:54</td>\n",
       "      <td>16</td>\n",
       "      <td>Ads</td>\n",
       "      <td>Chrome</td>\n",
       "      <td>F</td>\n",
       "      <td>53</td>\n",
       "      <td>3.503114e+08</td>\n",
       "      <td>0</td>\n",
       "    </tr>\n",
       "    <tr>\n",
       "      <th>2</th>\n",
       "      <td>2015-01-01 18:52:44</td>\n",
       "      <td>2015-01-01 18:52:45</td>\n",
       "      <td>15</td>\n",
       "      <td>SEO</td>\n",
       "      <td>Opera</td>\n",
       "      <td>M</td>\n",
       "      <td>53</td>\n",
       "      <td>2.621474e+09</td>\n",
       "      <td>1</td>\n",
       "    </tr>\n",
       "    <tr>\n",
       "      <th>3</th>\n",
       "      <td>2015-04-28 21:13:25</td>\n",
       "      <td>2015-05-04 13:54:50</td>\n",
       "      <td>44</td>\n",
       "      <td>SEO</td>\n",
       "      <td>Safari</td>\n",
       "      <td>M</td>\n",
       "      <td>41</td>\n",
       "      <td>3.840542e+09</td>\n",
       "      <td>0</td>\n",
       "    </tr>\n",
       "    <tr>\n",
       "      <th>4</th>\n",
       "      <td>2015-07-21 7:09:52</td>\n",
       "      <td>2015-09-09 18:40:53</td>\n",
       "      <td>39</td>\n",
       "      <td>Ads</td>\n",
       "      <td>Safari</td>\n",
       "      <td>M</td>\n",
       "      <td>45</td>\n",
       "      <td>4.155831e+08</td>\n",
       "      <td>0</td>\n",
       "    </tr>\n",
       "    <tr>\n",
       "      <th>...</th>\n",
       "      <td>...</td>\n",
       "      <td>...</td>\n",
       "      <td>...</td>\n",
       "      <td>...</td>\n",
       "      <td>...</td>\n",
       "      <td>...</td>\n",
       "      <td>...</td>\n",
       "      <td>...</td>\n",
       "      <td>...</td>\n",
       "    </tr>\n",
       "    <tr>\n",
       "      <th>151107</th>\n",
       "      <td>2015-01-27 3:03:34</td>\n",
       "      <td>2015-03-29 0:30:47</td>\n",
       "      <td>43</td>\n",
       "      <td>SEO</td>\n",
       "      <td>Chrome</td>\n",
       "      <td>M</td>\n",
       "      <td>28</td>\n",
       "      <td>3.451155e+09</td>\n",
       "      <td>1</td>\n",
       "    </tr>\n",
       "    <tr>\n",
       "      <th>151108</th>\n",
       "      <td>2015-05-15 17:43:29</td>\n",
       "      <td>2015-05-26 12:24:39</td>\n",
       "      <td>35</td>\n",
       "      <td>SEO</td>\n",
       "      <td>Safari</td>\n",
       "      <td>M</td>\n",
       "      <td>32</td>\n",
       "      <td>2.439047e+09</td>\n",
       "      <td>0</td>\n",
       "    </tr>\n",
       "    <tr>\n",
       "      <th>151109</th>\n",
       "      <td>2015-03-03 23:07:31</td>\n",
       "      <td>2015-05-20 7:07:47</td>\n",
       "      <td>40</td>\n",
       "      <td>SEO</td>\n",
       "      <td>IE</td>\n",
       "      <td>F</td>\n",
       "      <td>26</td>\n",
       "      <td>2.748471e+09</td>\n",
       "      <td>0</td>\n",
       "    </tr>\n",
       "    <tr>\n",
       "      <th>151110</th>\n",
       "      <td>2015-07-09 20:06:07</td>\n",
       "      <td>2015-09-07 9:34:46</td>\n",
       "      <td>46</td>\n",
       "      <td>SEO</td>\n",
       "      <td>Chrome</td>\n",
       "      <td>M</td>\n",
       "      <td>37</td>\n",
       "      <td>3.601175e+09</td>\n",
       "      <td>0</td>\n",
       "    </tr>\n",
       "    <tr>\n",
       "      <th>151111</th>\n",
       "      <td>2015-06-10 7:02:20</td>\n",
       "      <td>2015-07-21 2:03:53</td>\n",
       "      <td>20</td>\n",
       "      <td>Direct</td>\n",
       "      <td>IE</td>\n",
       "      <td>M</td>\n",
       "      <td>38</td>\n",
       "      <td>4.103825e+09</td>\n",
       "      <td>0</td>\n",
       "    </tr>\n",
       "  </tbody>\n",
       "</table>\n",
       "<p>151112 rows × 9 columns</p>\n",
       "</div>"
      ],
      "text/plain": [
       "                signup_time        purchase_time  purchase_value  source  \\\n",
       "0       2015-02-24 22:55:49   2015-04-18 2:47:11              34     SEO   \n",
       "1       2015-06-07 20:39:50   2015-06-08 1:38:54              16     Ads   \n",
       "2       2015-01-01 18:52:44  2015-01-01 18:52:45              15     SEO   \n",
       "3       2015-04-28 21:13:25  2015-05-04 13:54:50              44     SEO   \n",
       "4        2015-07-21 7:09:52  2015-09-09 18:40:53              39     Ads   \n",
       "...                     ...                  ...             ...     ...   \n",
       "151107   2015-01-27 3:03:34   2015-03-29 0:30:47              43     SEO   \n",
       "151108  2015-05-15 17:43:29  2015-05-26 12:24:39              35     SEO   \n",
       "151109  2015-03-03 23:07:31   2015-05-20 7:07:47              40     SEO   \n",
       "151110  2015-07-09 20:06:07   2015-09-07 9:34:46              46     SEO   \n",
       "151111   2015-06-10 7:02:20   2015-07-21 2:03:53              20  Direct   \n",
       "\n",
       "       browser sex  age    ip_address  is_fraud  \n",
       "0       Chrome   M   39  7.327584e+08         0  \n",
       "1       Chrome   F   53  3.503114e+08         0  \n",
       "2        Opera   M   53  2.621474e+09         1  \n",
       "3       Safari   M   41  3.840542e+09         0  \n",
       "4       Safari   M   45  4.155831e+08         0  \n",
       "...        ...  ..  ...           ...       ...  \n",
       "151107  Chrome   M   28  3.451155e+09         1  \n",
       "151108  Safari   M   32  2.439047e+09         0  \n",
       "151109      IE   F   26  2.748471e+09         0  \n",
       "151110  Chrome   M   37  3.601175e+09         0  \n",
       "151111      IE   M   38  4.103825e+09         0  \n",
       "\n",
       "[151112 rows x 9 columns]"
      ]
     },
     "execution_count": 5,
     "metadata": {},
     "output_type": "execute_result"
    }
   ],
   "source": [
    "df\n",
    "#We can salvage signup and purchase time. We can do purch-signup time, turn it into total secs, then scale that using standart scaler."
   ]
  },
  {
   "cell_type": "code",
   "execution_count": 6,
   "id": "ac61febf",
   "metadata": {},
   "outputs": [],
   "source": [
    "output = []\n",
    "for purtime, signtime in zip(df['purchase_time'].values, df['signup_time'].values):\n",
    "    date_time_obj_pur = datetime.datetime.strptime(purtime, '%Y-%m-%d %H:%M:%S')\n",
    "    date_time_obj_sign = datetime.datetime.strptime(signtime, '%Y-%m-%d %H:%M:%S')\n",
    "    minus = date_time_obj_pur - date_time_obj_sign\n",
    "    output.append(minus.total_seconds())"
   ]
  },
  {
   "cell_type": "code",
   "execution_count": 7,
   "id": "06281b9a",
   "metadata": {},
   "outputs": [],
   "source": [
    "from sklearn.preprocessing import StandardScaler, MinMaxScaler\n",
    "scaler = StandardScaler()\n",
    "scaled_times = scaler.fit_transform(np.array(output).reshape(-1,1))"
   ]
  },
  {
   "cell_type": "code",
   "execution_count": 8,
   "id": "b293210f",
   "metadata": {},
   "outputs": [
    {
     "data": {
      "text/plain": [
       "array([[-0.13605658],\n",
       "       [-1.57187713],\n",
       "       [-1.57761659],\n",
       "       ...,\n",
       "       [ 0.55964341],\n",
       "       [ 0.06848127],\n",
       "       [-0.45023111]])"
      ]
     },
     "execution_count": 8,
     "metadata": {},
     "output_type": "execute_result"
    }
   ],
   "source": [
    "scaled_times"
   ]
  },
  {
   "cell_type": "code",
   "execution_count": 9,
   "id": "1b1ea4ae",
   "metadata": {},
   "outputs": [],
   "source": [
    "df = df.drop(['signup_time', 'purchase_time'], axis=1)"
   ]
  },
  {
   "cell_type": "code",
   "execution_count": 10,
   "id": "7c3bf505",
   "metadata": {},
   "outputs": [],
   "source": [
    "df['Scale_Time_Factor'] = scaled_times"
   ]
  },
  {
   "cell_type": "code",
   "execution_count": 11,
   "id": "d567dc58",
   "metadata": {},
   "outputs": [],
   "source": [
    "from sklearn.preprocessing import LabelEncoder, OneHotEncoder"
   ]
  },
  {
   "cell_type": "code",
   "execution_count": 12,
   "id": "e1be743d",
   "metadata": {
    "scrolled": true
   },
   "outputs": [],
   "source": [
    "gender_encoder = LabelEncoder()\n",
    "gender_ = gender_encoder.fit_transform(df['sex'].values.ravel())\n",
    "#F -> 0 M -> 1"
   ]
  },
  {
   "cell_type": "code",
   "execution_count": 13,
   "id": "08c25804",
   "metadata": {},
   "outputs": [],
   "source": [
    "df['sex'] = gender_"
   ]
  },
  {
   "cell_type": "code",
   "execution_count": 14,
   "id": "1f42c002",
   "metadata": {},
   "outputs": [
    {
     "data": {
      "text/html": [
       "<div>\n",
       "<style scoped>\n",
       "    .dataframe tbody tr th:only-of-type {\n",
       "        vertical-align: middle;\n",
       "    }\n",
       "\n",
       "    .dataframe tbody tr th {\n",
       "        vertical-align: top;\n",
       "    }\n",
       "\n",
       "    .dataframe thead th {\n",
       "        text-align: right;\n",
       "    }\n",
       "</style>\n",
       "<table border=\"1\" class=\"dataframe\">\n",
       "  <thead>\n",
       "    <tr style=\"text-align: right;\">\n",
       "      <th></th>\n",
       "      <th>purchase_value</th>\n",
       "      <th>source</th>\n",
       "      <th>browser</th>\n",
       "      <th>sex</th>\n",
       "      <th>age</th>\n",
       "      <th>ip_address</th>\n",
       "      <th>is_fraud</th>\n",
       "      <th>Scale_Time_Factor</th>\n",
       "    </tr>\n",
       "  </thead>\n",
       "  <tbody>\n",
       "    <tr>\n",
       "      <th>0</th>\n",
       "      <td>34</td>\n",
       "      <td>SEO</td>\n",
       "      <td>Chrome</td>\n",
       "      <td>1</td>\n",
       "      <td>39</td>\n",
       "      <td>7.327584e+08</td>\n",
       "      <td>0</td>\n",
       "      <td>-0.136057</td>\n",
       "    </tr>\n",
       "    <tr>\n",
       "      <th>1</th>\n",
       "      <td>16</td>\n",
       "      <td>Ads</td>\n",
       "      <td>Chrome</td>\n",
       "      <td>0</td>\n",
       "      <td>53</td>\n",
       "      <td>3.503114e+08</td>\n",
       "      <td>0</td>\n",
       "      <td>-1.571877</td>\n",
       "    </tr>\n",
       "    <tr>\n",
       "      <th>2</th>\n",
       "      <td>15</td>\n",
       "      <td>SEO</td>\n",
       "      <td>Opera</td>\n",
       "      <td>1</td>\n",
       "      <td>53</td>\n",
       "      <td>2.621474e+09</td>\n",
       "      <td>1</td>\n",
       "      <td>-1.577617</td>\n",
       "    </tr>\n",
       "    <tr>\n",
       "      <th>3</th>\n",
       "      <td>44</td>\n",
       "      <td>SEO</td>\n",
       "      <td>Safari</td>\n",
       "      <td>1</td>\n",
       "      <td>41</td>\n",
       "      <td>3.840542e+09</td>\n",
       "      <td>0</td>\n",
       "      <td>-1.420213</td>\n",
       "    </tr>\n",
       "    <tr>\n",
       "      <th>4</th>\n",
       "      <td>39</td>\n",
       "      <td>Ads</td>\n",
       "      <td>Safari</td>\n",
       "      <td>1</td>\n",
       "      <td>45</td>\n",
       "      <td>4.155831e+08</td>\n",
       "      <td>0</td>\n",
       "      <td>-0.182509</td>\n",
       "    </tr>\n",
       "    <tr>\n",
       "      <th>...</th>\n",
       "      <td>...</td>\n",
       "      <td>...</td>\n",
       "      <td>...</td>\n",
       "      <td>...</td>\n",
       "      <td>...</td>\n",
       "      <td>...</td>\n",
       "      <td>...</td>\n",
       "      <td>...</td>\n",
       "    </tr>\n",
       "    <tr>\n",
       "      <th>151107</th>\n",
       "      <td>43</td>\n",
       "      <td>SEO</td>\n",
       "      <td>Chrome</td>\n",
       "      <td>1</td>\n",
       "      <td>28</td>\n",
       "      <td>3.451155e+09</td>\n",
       "      <td>1</td>\n",
       "      <td>0.105303</td>\n",
       "    </tr>\n",
       "    <tr>\n",
       "      <th>151108</th>\n",
       "      <td>35</td>\n",
       "      <td>SEO</td>\n",
       "      <td>Safari</td>\n",
       "      <td>1</td>\n",
       "      <td>32</td>\n",
       "      <td>2.439047e+09</td>\n",
       "      <td>0</td>\n",
       "      <td>-1.279730</td>\n",
       "    </tr>\n",
       "    <tr>\n",
       "      <th>151109</th>\n",
       "      <td>40</td>\n",
       "      <td>SEO</td>\n",
       "      <td>IE</td>\n",
       "      <td>0</td>\n",
       "      <td>26</td>\n",
       "      <td>2.748471e+09</td>\n",
       "      <td>0</td>\n",
       "      <td>0.559643</td>\n",
       "    </tr>\n",
       "    <tr>\n",
       "      <th>151110</th>\n",
       "      <td>46</td>\n",
       "      <td>SEO</td>\n",
       "      <td>Chrome</td>\n",
       "      <td>1</td>\n",
       "      <td>37</td>\n",
       "      <td>3.601175e+09</td>\n",
       "      <td>0</td>\n",
       "      <td>0.068481</td>\n",
       "    </tr>\n",
       "    <tr>\n",
       "      <th>151111</th>\n",
       "      <td>20</td>\n",
       "      <td>Direct</td>\n",
       "      <td>IE</td>\n",
       "      <td>1</td>\n",
       "      <td>38</td>\n",
       "      <td>4.103825e+09</td>\n",
       "      <td>0</td>\n",
       "      <td>-0.450231</td>\n",
       "    </tr>\n",
       "  </tbody>\n",
       "</table>\n",
       "<p>151112 rows × 8 columns</p>\n",
       "</div>"
      ],
      "text/plain": [
       "        purchase_value  source browser  sex  age    ip_address  is_fraud  \\\n",
       "0                   34     SEO  Chrome    1   39  7.327584e+08         0   \n",
       "1                   16     Ads  Chrome    0   53  3.503114e+08         0   \n",
       "2                   15     SEO   Opera    1   53  2.621474e+09         1   \n",
       "3                   44     SEO  Safari    1   41  3.840542e+09         0   \n",
       "4                   39     Ads  Safari    1   45  4.155831e+08         0   \n",
       "...                ...     ...     ...  ...  ...           ...       ...   \n",
       "151107              43     SEO  Chrome    1   28  3.451155e+09         1   \n",
       "151108              35     SEO  Safari    1   32  2.439047e+09         0   \n",
       "151109              40     SEO      IE    0   26  2.748471e+09         0   \n",
       "151110              46     SEO  Chrome    1   37  3.601175e+09         0   \n",
       "151111              20  Direct      IE    1   38  4.103825e+09         0   \n",
       "\n",
       "        Scale_Time_Factor  \n",
       "0               -0.136057  \n",
       "1               -1.571877  \n",
       "2               -1.577617  \n",
       "3               -1.420213  \n",
       "4               -0.182509  \n",
       "...                   ...  \n",
       "151107           0.105303  \n",
       "151108          -1.279730  \n",
       "151109           0.559643  \n",
       "151110           0.068481  \n",
       "151111          -0.450231  \n",
       "\n",
       "[151112 rows x 8 columns]"
      ]
     },
     "execution_count": 14,
     "metadata": {},
     "output_type": "execute_result"
    }
   ],
   "source": [
    "df"
   ]
  },
  {
   "cell_type": "code",
   "execution_count": 15,
   "id": "284b382f",
   "metadata": {},
   "outputs": [
    {
     "data": {
      "image/png": "[encoded data removed]",
      "text/plain": [
       "<Figure size 1152x576 with 6 Axes>"
      ]
     },
     "metadata": {},
     "output_type": "display_data"
    }
   ],
   "source": [
    "fig, ax = plt.subplots(nrows=2, ncols=3, figsize=(16,8))\n",
    "count = 0\n",
    "X_vals = [df.purchase_value.values, df.sex.values, df.age.values, df.ip_address.values, df.Scale_Time_Factor.values, df.is_fraud.values]\n",
    "for r in range(2):\n",
    "    for c in range(3):\n",
    "        sns.histplot(ax=ax[r,c], x=X_vals[count], bins=10, kde=True)\n",
    "        count += 1\n",
    "#Classes are imbalanced. We can use SMOTE for this, or use a under-sampler. We'll return to this later."
   ]
  },
  {
   "cell_type": "code",
   "execution_count": 16,
   "id": "b435bdac",
   "metadata": {},
   "outputs": [
    {
     "data": {
      "text/plain": [
       "<AxesSubplot:>"
      ]
     },
     "execution_count": 16,
     "metadata": {},
     "output_type": "execute_result"
    },
    {
     "data": {
      "image/png": "[encoded data removed]",
      "text/plain": [
       "<Figure size 576x396 with 2 Axes>"
      ]
     },
     "metadata": {},
     "output_type": "display_data"
    }
   ],
   "source": [
    "sns.heatmap(df.corr())\n",
    "#We probably cant expect a good linear model out of this data."
   ]
  },
  {
   "cell_type": "code",
   "execution_count": 17,
   "id": "eacbd909",
   "metadata": {
    "scrolled": true
   },
   "outputs": [
    {
     "name": "stderr",
     "output_type": "stream",
     "text": [
      "c:\\users\\shunnie\\appdata\\local\\programs\\python\\python37\\lib\\site-packages\\seaborn\\distributions.py:306: UserWarning: Dataset has 0 variance; skipping density estimate.\n",
      "  warnings.warn(msg, UserWarning)\n"
     ]
    },
    {
     "data": {
      "image/png": "[encoded data removed]",
      "text/plain": [
       "<Figure size 1152x576 with 6 Axes>"
      ]
     },
     "metadata": {},
     "output_type": "display_data"
    }
   ],
   "source": [
    "fig, ax = plt.subplots(nrows=2, ncols=3, figsize=(16,8))\n",
    "count = 0\n",
    "names = ['Pur_val', 'Gender', 'Age', 'IP_ADRESS', 'Time_Between_Signup_pur', 'Is_Fraud']\n",
    "X_vals = [df.purchase_value.values, df.sex.values, df.age.values, df.ip_address.values, df.Scale_Time_Factor.values, df.is_fraud.values]\n",
    "for r in range(2):\n",
    "    for c in range(3):\n",
    "        sns.kdeplot(ax=ax[r,c], x=X_vals[count],  hue=df.is_fraud.values).set_title(names[count])\n",
    "        count += 1"
   ]
  },
  {
   "cell_type": "code",
   "execution_count": 18,
   "id": "22f82408",
   "metadata": {},
   "outputs": [
    {
     "data": {
      "text/plain": [
       "<AxesSubplot:ylabel='Count'>"
      ]
     },
     "execution_count": 18,
     "metadata": {},
     "output_type": "execute_result"
    },
    {
     "data": {
      "image/png": "[encoded data removed]",
      "text/plain": [
       "<Figure size 576x396 with 1 Axes>"
      ]
     },
     "metadata": {},
     "output_type": "display_data"
    }
   ],
   "source": [
    "sns.histplot(x=df['browser'].values, hue=df.is_fraud.values, hue_order=[1,0])"
   ]
  },
  {
   "cell_type": "code",
   "execution_count": 19,
   "id": "850dc68c",
   "metadata": {},
   "outputs": [
    {
     "data": {
      "text/plain": [
       "<AxesSubplot:ylabel='Count'>"
      ]
     },
     "execution_count": 19,
     "metadata": {},
     "output_type": "execute_result"
    },
    {
     "data": {
      "image/png": "[encoded data removed]",
      "text/plain": [
       "<Figure size 576x396 with 1 Axes>"
      ]
     },
     "metadata": {},
     "output_type": "display_data"
    }
   ],
   "source": [
    "sns.histplot(x=df['source'].values, hue=df.is_fraud.values, hue_order=[1,0])"
   ]
  },
  {
   "cell_type": "code",
   "execution_count": 20,
   "id": "f55e5072",
   "metadata": {},
   "outputs": [],
   "source": [
    "ohe_source = OneHotEncoder(sparse=False)\n",
    "ohe_browser = OneHotEncoder(sparse=False)"
   ]
  },
  {
   "cell_type": "code",
   "execution_count": 21,
   "id": "d4ed118e",
   "metadata": {},
   "outputs": [],
   "source": [
    "df_source = ohe_source.fit_transform(df.source.values.reshape(-1,1))"
   ]
  },
  {
   "cell_type": "code",
   "execution_count": 22,
   "id": "46906e6f",
   "metadata": {},
   "outputs": [],
   "source": [
    "df_browser = ohe_browser.fit_transform(df.browser.values.reshape(-1,1))"
   ]
  },
  {
   "cell_type": "code",
   "execution_count": 23,
   "id": "2999c59f",
   "metadata": {},
   "outputs": [],
   "source": [
    "df_browser = pd.DataFrame(df_browser,columns=ohe_browser.categories_[0])\n",
    "df_source = pd.DataFrame(df_source, columns=ohe_source.categories_[0])"
   ]
  },
  {
   "cell_type": "code",
   "execution_count": 24,
   "id": "3d875692",
   "metadata": {},
   "outputs": [],
   "source": [
    "df = df.drop(['source', 'browser'], axis=1)"
   ]
  },
  {
   "cell_type": "code",
   "execution_count": 25,
   "id": "3227c015",
   "metadata": {},
   "outputs": [],
   "source": [
    "df = pd.concat([df, df_browser, df_source], axis=1)"
   ]
  },
  {
   "cell_type": "code",
   "execution_count": 26,
   "id": "109681c3",
   "metadata": {
    "scrolled": true
   },
   "outputs": [
    {
     "data": {
      "text/html": [
       "<div>\n",
       "<style scoped>\n",
       "    .dataframe tbody tr th:only-of-type {\n",
       "        vertical-align: middle;\n",
       "    }\n",
       "\n",
       "    .dataframe tbody tr th {\n",
       "        vertical-align: top;\n",
       "    }\n",
       "\n",
       "    .dataframe thead th {\n",
       "        text-align: right;\n",
       "    }\n",
       "</style>\n",
       "<table border=\"1\" class=\"dataframe\">\n",
       "  <thead>\n",
       "    <tr style=\"text-align: right;\">\n",
       "      <th></th>\n",
       "      <th>purchase_value</th>\n",
       "      <th>sex</th>\n",
       "      <th>age</th>\n",
       "      <th>ip_address</th>\n",
       "      <th>is_fraud</th>\n",
       "      <th>Scale_Time_Factor</th>\n",
       "      <th>Chrome</th>\n",
       "      <th>FireFox</th>\n",
       "      <th>IE</th>\n",
       "      <th>Opera</th>\n",
       "      <th>Safari</th>\n",
       "      <th>Ads</th>\n",
       "      <th>Direct</th>\n",
       "      <th>SEO</th>\n",
       "    </tr>\n",
       "  </thead>\n",
       "  <tbody>\n",
       "    <tr>\n",
       "      <th>0</th>\n",
       "      <td>34</td>\n",
       "      <td>1</td>\n",
       "      <td>39</td>\n",
       "      <td>7.327584e+08</td>\n",
       "      <td>0</td>\n",
       "      <td>-0.136057</td>\n",
       "      <td>1.0</td>\n",
       "      <td>0.0</td>\n",
       "      <td>0.0</td>\n",
       "      <td>0.0</td>\n",
       "      <td>0.0</td>\n",
       "      <td>0.0</td>\n",
       "      <td>0.0</td>\n",
       "      <td>1.0</td>\n",
       "    </tr>\n",
       "    <tr>\n",
       "      <th>1</th>\n",
       "      <td>16</td>\n",
       "      <td>0</td>\n",
       "      <td>53</td>\n",
       "      <td>3.503114e+08</td>\n",
       "      <td>0</td>\n",
       "      <td>-1.571877</td>\n",
       "      <td>1.0</td>\n",
       "      <td>0.0</td>\n",
       "      <td>0.0</td>\n",
       "      <td>0.0</td>\n",
       "      <td>0.0</td>\n",
       "      <td>1.0</td>\n",
       "      <td>0.0</td>\n",
       "      <td>0.0</td>\n",
       "    </tr>\n",
       "    <tr>\n",
       "      <th>2</th>\n",
       "      <td>15</td>\n",
       "      <td>1</td>\n",
       "      <td>53</td>\n",
       "      <td>2.621474e+09</td>\n",
       "      <td>1</td>\n",
       "      <td>-1.577617</td>\n",
       "      <td>0.0</td>\n",
       "      <td>0.0</td>\n",
       "      <td>0.0</td>\n",
       "      <td>1.0</td>\n",
       "      <td>0.0</td>\n",
       "      <td>0.0</td>\n",
       "      <td>0.0</td>\n",
       "      <td>1.0</td>\n",
       "    </tr>\n",
       "    <tr>\n",
       "      <th>3</th>\n",
       "      <td>44</td>\n",
       "      <td>1</td>\n",
       "      <td>41</td>\n",
       "      <td>3.840542e+09</td>\n",
       "      <td>0</td>\n",
       "      <td>-1.420213</td>\n",
       "      <td>0.0</td>\n",
       "      <td>0.0</td>\n",
       "      <td>0.0</td>\n",
       "      <td>0.0</td>\n",
       "      <td>1.0</td>\n",
       "      <td>0.0</td>\n",
       "      <td>0.0</td>\n",
       "      <td>1.0</td>\n",
       "    </tr>\n",
       "    <tr>\n",
       "      <th>4</th>\n",
       "      <td>39</td>\n",
       "      <td>1</td>\n",
       "      <td>45</td>\n",
       "      <td>4.155831e+08</td>\n",
       "      <td>0</td>\n",
       "      <td>-0.182509</td>\n",
       "      <td>0.0</td>\n",
       "      <td>0.0</td>\n",
       "      <td>0.0</td>\n",
       "      <td>0.0</td>\n",
       "      <td>1.0</td>\n",
       "      <td>1.0</td>\n",
       "      <td>0.0</td>\n",
       "      <td>0.0</td>\n",
       "    </tr>\n",
       "    <tr>\n",
       "      <th>...</th>\n",
       "      <td>...</td>\n",
       "      <td>...</td>\n",
       "      <td>...</td>\n",
       "      <td>...</td>\n",
       "      <td>...</td>\n",
       "      <td>...</td>\n",
       "      <td>...</td>\n",
       "      <td>...</td>\n",
       "      <td>...</td>\n",
       "      <td>...</td>\n",
       "      <td>...</td>\n",
       "      <td>...</td>\n",
       "      <td>...</td>\n",
       "      <td>...</td>\n",
       "    </tr>\n",
       "    <tr>\n",
       "      <th>151107</th>\n",
       "      <td>43</td>\n",
       "      <td>1</td>\n",
       "      <td>28</td>\n",
       "      <td>3.451155e+09</td>\n",
       "      <td>1</td>\n",
       "      <td>0.105303</td>\n",
       "      <td>1.0</td>\n",
       "      <td>0.0</td>\n",
       "      <td>0.0</td>\n",
       "      <td>0.0</td>\n",
       "      <td>0.0</td>\n",
       "      <td>0.0</td>\n",
       "      <td>0.0</td>\n",
       "      <td>1.0</td>\n",
       "    </tr>\n",
       "    <tr>\n",
       "      <th>151108</th>\n",
       "      <td>35</td>\n",
       "      <td>1</td>\n",
       "      <td>32</td>\n",
       "      <td>2.439047e+09</td>\n",
       "      <td>0</td>\n",
       "      <td>-1.279730</td>\n",
       "      <td>0.0</td>\n",
       "      <td>0.0</td>\n",
       "      <td>0.0</td>\n",
       "      <td>0.0</td>\n",
       "      <td>1.0</td>\n",
       "      <td>0.0</td>\n",
       "      <td>0.0</td>\n",
       "      <td>1.0</td>\n",
       "    </tr>\n",
       "    <tr>\n",
       "      <th>151109</th>\n",
       "      <td>40</td>\n",
       "      <td>0</td>\n",
       "      <td>26</td>\n",
       "      <td>2.748471e+09</td>\n",
       "      <td>0</td>\n",
       "      <td>0.559643</td>\n",
       "      <td>0.0</td>\n",
       "      <td>0.0</td>\n",
       "      <td>1.0</td>\n",
       "      <td>0.0</td>\n",
       "      <td>0.0</td>\n",
       "      <td>0.0</td>\n",
       "      <td>0.0</td>\n",
       "      <td>1.0</td>\n",
       "    </tr>\n",
       "    <tr>\n",
       "      <th>151110</th>\n",
       "      <td>46</td>\n",
       "      <td>1</td>\n",
       "      <td>37</td>\n",
       "      <td>3.601175e+09</td>\n",
       "      <td>0</td>\n",
       "      <td>0.068481</td>\n",
       "      <td>1.0</td>\n",
       "      <td>0.0</td>\n",
       "      <td>0.0</td>\n",
       "      <td>0.0</td>\n",
       "      <td>0.0</td>\n",
       "      <td>0.0</td>\n",
       "      <td>0.0</td>\n",
       "      <td>1.0</td>\n",
       "    </tr>\n",
       "    <tr>\n",
       "      <th>151111</th>\n",
       "      <td>20</td>\n",
       "      <td>1</td>\n",
       "      <td>38</td>\n",
       "      <td>4.103825e+09</td>\n",
       "      <td>0</td>\n",
       "      <td>-0.450231</td>\n",
       "      <td>0.0</td>\n",
       "      <td>0.0</td>\n",
       "      <td>1.0</td>\n",
       "      <td>0.0</td>\n",
       "      <td>0.0</td>\n",
       "      <td>0.0</td>\n",
       "      <td>1.0</td>\n",
       "      <td>0.0</td>\n",
       "    </tr>\n",
       "  </tbody>\n",
       "</table>\n",
       "<p>151112 rows × 14 columns</p>\n",
       "</div>"
      ],
      "text/plain": [
       "        purchase_value  sex  age    ip_address  is_fraud  Scale_Time_Factor  \\\n",
       "0                   34    1   39  7.327584e+08         0          -0.136057   \n",
       "1                   16    0   53  3.503114e+08         0          -1.571877   \n",
       "2                   15    1   53  2.621474e+09         1          -1.577617   \n",
       "3                   44    1   41  3.840542e+09         0          -1.420213   \n",
       "4                   39    1   45  4.155831e+08         0          -0.182509   \n",
       "...                ...  ...  ...           ...       ...                ...   \n",
       "151107              43    1   28  3.451155e+09         1           0.105303   \n",
       "151108              35    1   32  2.439047e+09         0          -1.279730   \n",
       "151109              40    0   26  2.748471e+09         0           0.559643   \n",
       "151110              46    1   37  3.601175e+09         0           0.068481   \n",
       "151111              20    1   38  4.103825e+09         0          -0.450231   \n",
       "\n",
       "        Chrome  FireFox   IE  Opera  Safari  Ads  Direct  SEO  \n",
       "0          1.0      0.0  0.0    0.0     0.0  0.0     0.0  1.0  \n",
       "1          1.0      0.0  0.0    0.0     0.0  1.0     0.0  0.0  \n",
       "2          0.0      0.0  0.0    1.0     0.0  0.0     0.0  1.0  \n",
       "3          0.0      0.0  0.0    0.0     1.0  0.0     0.0  1.0  \n",
       "4          0.0      0.0  0.0    0.0     1.0  1.0     0.0  0.0  \n",
       "...        ...      ...  ...    ...     ...  ...     ...  ...  \n",
       "151107     1.0      0.0  0.0    0.0     0.0  0.0     0.0  1.0  \n",
       "151108     0.0      0.0  0.0    0.0     1.0  0.0     0.0  1.0  \n",
       "151109     0.0      0.0  1.0    0.0     0.0  0.0     0.0  1.0  \n",
       "151110     1.0      0.0  0.0    0.0     0.0  0.0     0.0  1.0  \n",
       "151111     0.0      0.0  1.0    0.0     0.0  0.0     1.0  0.0  \n",
       "\n",
       "[151112 rows x 14 columns]"
      ]
     },
     "execution_count": 26,
     "metadata": {},
     "output_type": "execute_result"
    }
   ],
   "source": [
    "df"
   ]
  },
  {
   "cell_type": "code",
   "execution_count": 27,
   "id": "70f9bc68",
   "metadata": {
    "scrolled": false
   },
   "outputs": [
    {
     "data": {
      "text/plain": [
       "<AxesSubplot:>"
      ]
     },
     "execution_count": 27,
     "metadata": {},
     "output_type": "execute_result"
    },
    {
     "data": {
      "image/png": "[encoded data removed]",
      "text/plain": [
       "<Figure size 576x396 with 2 Axes>"
      ]
     },
     "metadata": {},
     "output_type": "display_data"
    }
   ],
   "source": [
    "sns.heatmap(df.corr())"
   ]
  },
  {
   "cell_type": "code",
   "execution_count": 28,
   "id": "290f2017",
   "metadata": {},
   "outputs": [],
   "source": [
    "#Others columns dont effect Y variable except Scale_Time_Factor. But just to be sure, we'll fit some data and see\n",
    "#We'll also undersample the data for this test"
   ]
  },
  {
   "cell_type": "code",
   "execution_count": 31,
   "id": "d20fcbbc",
   "metadata": {},
   "outputs": [],
   "source": [
    "from imblearn.under_sampling import RandomUnderSampler\n",
    "from sklearn.model_selection import train_test_split\n",
    "from sklearn.metrics import confusion_matrix\n",
    "from sklearn.linear_model import LogisticRegression\n",
    "from sklearn.naive_bayes import GaussianNB\n",
    "from sklearn.tree import DecisionTreeClassifier\n",
    "from sklearn.ensemble import RandomForestClassifier, AdaBoostClassifier\n",
    "from xgboost import XGBClassifier\n",
    "from sklearn.preprocessing import MinMaxScaler"
   ]
  },
  {
   "cell_type": "code",
   "execution_count": 59,
   "id": "65eed1b7",
   "metadata": {},
   "outputs": [],
   "source": [
    "X = MinMaxScaler().fit_transform(df.drop(['is_fraud'], axis=1).values)\n",
    "y = df['is_fraud'].values.reshape(-1,1)"
   ]
  },
  {
   "cell_type": "code",
   "execution_count": 60,
   "id": "3a22e2ea",
   "metadata": {},
   "outputs": [],
   "source": [
    "X_sample, y_sample = RandomUnderSampler().fit_resample(X, y)"
   ]
  },
  {
   "cell_type": "code",
   "execution_count": 61,
   "id": "4cac1802",
   "metadata": {},
   "outputs": [],
   "source": [
    "x_train, x_test, y_train, y_test = train_test_split(X_sample, y_sample, test_size=0.2)"
   ]
  },
  {
   "cell_type": "code",
   "execution_count": 62,
   "id": "6c8c9e10",
   "metadata": {},
   "outputs": [],
   "source": [
    "def test(x_train, x_test, y_train, y_test, regressor):\n",
    "    return confusion_matrix(y_test, regressor.fit(x_train, y_train).predict(x_test))"
   ]
  },
  {
   "cell_type": "code",
   "execution_count": 63,
   "id": "25607df5",
   "metadata": {},
   "outputs": [
    {
     "data": {
      "text/plain": [
       "array([[1829,  980],\n",
       "       [ 824, 2028]], dtype=int64)"
      ]
     },
     "execution_count": 63,
     "metadata": {},
     "output_type": "execute_result"
    }
   ],
   "source": [
    "test(x_train, x_test, y_train, y_test, LogisticRegression())"
   ]
  },
  {
   "cell_type": "code",
   "execution_count": 68,
   "id": "ebdfe0fe",
   "metadata": {},
   "outputs": [
    {
     "data": {
      "text/plain": [
       "array([[2807,    2],\n",
       "       [1304, 1548]], dtype=int64)"
      ]
     },
     "execution_count": 68,
     "metadata": {},
     "output_type": "execute_result"
    }
   ],
   "source": [
    "test(x_train, x_test, y_train, y_test, AdaBoostClassifier())"
   ]
  },
  {
   "cell_type": "code",
   "execution_count": 69,
   "id": "368884b5",
   "metadata": {},
   "outputs": [
    {
     "data": {
      "text/plain": [
       "0.7033166742389823"
      ]
     },
     "execution_count": 69,
     "metadata": {},
     "output_type": "execute_result"
    }
   ],
   "source": [
    "f1_score(y_test, AdaBoostClassifier().fit(x_train, y_train).predict(x_test))"
   ]
  },
  {
   "cell_type": "code",
   "execution_count": 70,
   "id": "a9a785a6",
   "metadata": {},
   "outputs": [],
   "source": [
    "#This time X var will only consist scale_time_factor"
   ]
  },
  {
   "cell_type": "code",
   "execution_count": 71,
   "id": "8f26a30e",
   "metadata": {},
   "outputs": [],
   "source": [
    "X_sample, y_sample = RandomUnderSampler().fit_resample(MinMaxScaler().fit_transform(df['Scale_Time_Factor'].values.reshape(-1,1)), y)"
   ]
  },
  {
   "cell_type": "code",
   "execution_count": 72,
   "id": "3ee5e960",
   "metadata": {},
   "outputs": [],
   "source": [
    "x_train, x_test, y_train, y_test = train_test_split(X_sample, y_sample, test_size=0.2)"
   ]
  },
  {
   "cell_type": "code",
   "execution_count": 73,
   "id": "9258de77",
   "metadata": {},
   "outputs": [
    {
     "data": {
      "text/plain": [
       "array([[1855,  957],\n",
       "       [ 853, 1996]], dtype=int64)"
      ]
     },
     "execution_count": 73,
     "metadata": {},
     "output_type": "execute_result"
    }
   ],
   "source": [
    "test(x_train, x_test, y_train, y_test, LogisticRegression())"
   ]
  },
  {
   "cell_type": "code",
   "execution_count": 74,
   "id": "dd8981f4",
   "metadata": {},
   "outputs": [
    {
     "data": {
      "text/plain": [
       "array([[2809,    3],\n",
       "       [1337, 1512]], dtype=int64)"
      ]
     },
     "execution_count": 74,
     "metadata": {},
     "output_type": "execute_result"
    }
   ],
   "source": [
    "test(x_train, x_test, y_train, y_test, AdaBoostClassifier())"
   ]
  },
  {
   "cell_type": "code",
   "execution_count": 75,
   "id": "4eb313c6",
   "metadata": {},
   "outputs": [],
   "source": [
    "from sklearn.metrics import f1_score"
   ]
  },
  {
   "cell_type": "code",
   "execution_count": 76,
   "id": "0f45b4e0",
   "metadata": {},
   "outputs": [
    {
     "data": {
      "text/plain": [
       "0.6929422548120989"
      ]
     },
     "execution_count": 76,
     "metadata": {},
     "output_type": "execute_result"
    }
   ],
   "source": [
    "f1_score(y_test, AdaBoostClassifier().fit(x_train, y_train).predict(x_test))"
   ]
  },
  {
   "cell_type": "code",
   "execution_count": 78,
   "id": "cd031272",
   "metadata": {},
   "outputs": [],
   "source": [
    "#As we can see, there are only marginal differences. We can get rid of every other data except our engineered Scale_Time_Factor\n",
    "#This is a shame, but we cannot do more. We need more meaningful data, theres no way around it.\n",
    "#For example, if we think about how Logistic Regression works, it works by solving an equation like this\n",
    "#bias + feature1*weight1+feature2*weight2\n",
    "#and then it plugs that value into a sigmoid function, and after using a simple binary crossentropy loss\n",
    "#and using gradient descent, it tries to find the best optimal weights.\n",
    "#So you need correlation with the target data.\n",
    "\n",
    "##I'm going to include a \"naive_bayes_from_scratch.py\" file in the same directory as this file."
   ]
  },
  {
   "cell_type": "code",
   "execution_count": 81,
   "id": "6eb59157",
   "metadata": {},
   "outputs": [],
   "source": [
    "#Also, just to try, I'll try ensemble some of the best performing models and we'll see if that makes a difference"
   ]
  },
  {
   "cell_type": "code",
   "execution_count": 82,
   "id": "65d8da38",
   "metadata": {},
   "outputs": [],
   "source": [
    "from sklearn.ensemble import VotingClassifier"
   ]
  },
  {
   "cell_type": "code",
   "execution_count": 83,
   "id": "e367471d",
   "metadata": {},
   "outputs": [
    {
     "data": {
      "text/plain": [
       "array([[1923,  889],\n",
       "       [ 885, 1964]], dtype=int64)"
      ]
     },
     "execution_count": 83,
     "metadata": {},
     "output_type": "execute_result"
    }
   ],
   "source": [
    "test(x_train, x_test, y_train, y_test, GaussianNB())"
   ]
  },
  {
   "cell_type": "code",
   "execution_count": 84,
   "id": "cc1e6ca6",
   "metadata": {},
   "outputs": [
    {
     "data": {
      "text/plain": [
       "array([[1970,  842],\n",
       "       [ 927, 1922]], dtype=int64)"
      ]
     },
     "execution_count": 84,
     "metadata": {},
     "output_type": "execute_result"
    }
   ],
   "source": [
    "test(x_train, x_test, y_train, y_test, DecisionTreeClassifier())"
   ]
  },
  {
   "cell_type": "code",
   "execution_count": 85,
   "id": "f04952df",
   "metadata": {},
   "outputs": [
    {
     "name": "stderr",
     "output_type": "stream",
     "text": [
      "c:\\users\\shunnie\\appdata\\local\\programs\\python\\python37\\lib\\site-packages\\xgboost\\sklearn.py:1146: UserWarning: The use of label encoder in XGBClassifier is deprecated and will be removed in a future release. To remove this warning, do the following: 1) Pass option use_label_encoder=False when constructing XGBClassifier object; and 2) Encode your labels (y) as integers starting with 0, i.e. 0, 1, 2, ..., [num_class - 1].\n",
      "  warnings.warn(label_encoder_deprecation_msg, UserWarning)\n"
     ]
    },
    {
     "name": "stdout",
     "output_type": "stream",
     "text": [
      "[20:52:26] WARNING: C:/Users/Administrator/workspace/xgboost-win64_release_1.4.0/src/learner.cc:1095: Starting in XGBoost 1.3.0, the default evaluation metric used with the objective 'binary:logistic' was changed from 'error' to 'logloss'. Explicitly set eval_metric if you'd like to restore the old behavior.\n"
     ]
    },
    {
     "data": {
      "text/plain": [
       "array([[2756,   56],\n",
       "       [1316, 1533]], dtype=int64)"
      ]
     },
     "execution_count": 85,
     "metadata": {},
     "output_type": "execute_result"
    }
   ],
   "source": [
    "test(x_train, x_test, y_train, y_test, XGBClassifier())"
   ]
  },
  {
   "cell_type": "code",
   "execution_count": 86,
   "id": "dd08e9fa",
   "metadata": {
    "scrolled": true
   },
   "outputs": [
    {
     "data": {
      "text/plain": [
       "array([[1971,  841],\n",
       "       [ 927, 1922]], dtype=int64)"
      ]
     },
     "execution_count": 86,
     "metadata": {},
     "output_type": "execute_result"
    }
   ],
   "source": [
    "test(x_train, x_test, y_train, y_test, RandomForestClassifier())"
   ]
  },
  {
   "cell_type": "code",
   "execution_count": 87,
   "id": "22049ae1",
   "metadata": {},
   "outputs": [],
   "source": [
    "rfc = RandomForestClassifier(n_estimators=300)\n",
    "lr = LogisticRegression()\n",
    "#By the way, Adaboost uses Decision Tree as the base algorithm to boost\n",
    "ada = AdaBoostClassifier()"
   ]
  },
  {
   "cell_type": "code",
   "execution_count": 88,
   "id": "7ad235e7",
   "metadata": {},
   "outputs": [],
   "source": [
    "estimators = [('rfc', rfc), ('logr', lr), ('ada', ada)]"
   ]
  },
  {
   "cell_type": "code",
   "execution_count": 89,
   "id": "359e9b27",
   "metadata": {},
   "outputs": [],
   "source": [
    "vc = VotingClassifier(estimators=estimators, voting='hard')"
   ]
  },
  {
   "cell_type": "code",
   "execution_count": 90,
   "id": "f792efdf",
   "metadata": {},
   "outputs": [
    {
     "data": {
      "text/plain": [
       "VotingClassifier(estimators=[('rfc', RandomForestClassifier(n_estimators=300)),\n",
       "                             ('logr', LogisticRegression()),\n",
       "                             ('ada', AdaBoostClassifier())])"
      ]
     },
     "execution_count": 90,
     "metadata": {},
     "output_type": "execute_result"
    }
   ],
   "source": [
    "vc.fit(x_train, y_train)"
   ]
  },
  {
   "cell_type": "code",
   "execution_count": 91,
   "id": "4cb29587",
   "metadata": {},
   "outputs": [
    {
     "data": {
      "text/plain": [
       "array([[2541,  271],\n",
       "       [1188, 1661]], dtype=int64)"
      ]
     },
     "execution_count": 91,
     "metadata": {},
     "output_type": "execute_result"
    }
   ],
   "source": [
    "confusion_matrix(y_test, vc.predict(x_test))"
   ]
  },
  {
   "cell_type": "code",
   "execution_count": 92,
   "id": "a1c0a517",
   "metadata": {},
   "outputs": [
    {
     "data": {
      "text/plain": [
       "0.6948337167956494"
      ]
     },
     "execution_count": 92,
     "metadata": {},
     "output_type": "execute_result"
    }
   ],
   "source": [
    "f1_score(y_test, vc.predict(x_test))"
   ]
  },
  {
   "cell_type": "code",
   "execution_count": 93,
   "id": "dffebcbe",
   "metadata": {},
   "outputs": [],
   "source": [
    "from sklearn.metrics import accuracy_score"
   ]
  },
  {
   "cell_type": "code",
   "execution_count": 95,
   "id": "1036ee81",
   "metadata": {},
   "outputs": [
    {
     "data": {
      "text/plain": [
       "0.6873343932167462"
      ]
     },
     "execution_count": 95,
     "metadata": {},
     "output_type": "execute_result"
    }
   ],
   "source": [
    "accuracy_score(y_test, rfc.fit(x_train, y_train).predict(x_test))"
   ]
  },
  {
   "cell_type": "code",
   "execution_count": 96,
   "id": "a52e56b8",
   "metadata": {},
   "outputs": [
    {
     "data": {
      "text/plain": [
       "0.7422716834481541"
      ]
     },
     "execution_count": 96,
     "metadata": {},
     "output_type": "execute_result"
    }
   ],
   "source": [
    "accuracy_score(y_test, vc.predict(x_test))"
   ]
  },
  {
   "cell_type": "code",
   "execution_count": 97,
   "id": "d7c7ee2c",
   "metadata": {},
   "outputs": [
    {
     "data": {
      "text/plain": [
       "0.6847167794798718"
      ]
     },
     "execution_count": 97,
     "metadata": {},
     "output_type": "execute_result"
    }
   ],
   "source": [
    "f1_score(y_test, rfc.predict(x_test))"
   ]
  },
  {
   "cell_type": "code",
   "execution_count": null,
   "id": "293406d8",
   "metadata": {},
   "outputs": [],
   "source": []
  }
 ],
 "metadata": {
  "kernelspec": {
   "display_name": "Python 3 (ipykernel)",
   "language": "python",
   "name": "python3"
  },
  "language_info": {
   "codemirror_mode": {
    "name": "ipython",
    "version": 3
   },
   "file_extension": ".py",
   "mimetype": "text/x-python",
   "name": "python",
   "nbconvert_exporter": "python",
   "pygments_lexer": "ipython3",
   "version": "3.7.9"
  }
 },
 "nbformat": 4,
 "nbformat_minor": 5
}
